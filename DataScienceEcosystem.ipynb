# Data Science Tools and Ecosystem
In this notebook, Data Science Tools and Ecosystem are summarized.
**Objectives**
- Learn how to use JupyterLite
- Learn the basics of markdown language
- Become a data scientist :)
Some of the popular languages that Data Scientists use are:
1. Python
2. R
3. SQL
Some of the commonly used libraries used by Data Scientists include:
1. NumPy
2. Matplotlib
3. Scikit
|Data Science Tools|
|------------------|
|Tensorflow|
|PyTorch|
|Apache Hadoop|
### Below are a few examples of evaluating arithmetic expressions in Python
#This is a simple arithmetic expression to multiply then add integers
(3*4)+5
#This will convert 200 minutes to hours by dividing by 60
200/60
## Author
Ayden Hubenak
